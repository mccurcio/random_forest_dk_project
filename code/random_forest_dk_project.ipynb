{
 "cells": [
  {
   "cell_type": "markdown",
   "metadata": {},
   "source": [
    "## Predict and classify oxygen-binding proteins using random forest machine learning\n",
    "\n",
    "describe\n",
    "\n",
    "***\n",
    "\n",
    "This project can be found at:\n",
    "https://github.com/mccurcio/random_forest_dk_project.git\n",
    "\n",
    "See also: /home/mcc/Dropbox/git_projects/random_forest_dk_project"
   ]
  },
  {
   "cell_type": "code",
   "execution_count": 6,
   "metadata": {
    "collapsed": false
   },
   "outputs": [
    {
     "name": "stdout",
     "output_type": "stream",
     "text": [
      "7\n",
      "/home/mcc/Dropbox/git_projects/random_forest_dk_project/uniprot_1/\n"
     ]
    }
   ],
   "source": [
    "dir_path = \"/home/mcc/Dropbox/git_projects/random_forest_dk_project/uniprot_1/\"\n",
    "\n",
    "heme_files =  (\"uniprot-erythrocruorin.fasta\",\n",
    "               \"uniprot-hemerythrin.fasta\",\n",
    "               \"uniprot-hemocyanin.fasta\",\n",
    "               \"uniprot-hemoglobin.fasta\",\n",
    "               \"uniprot-erythrocruorin.fasta\",\n",
    "               \"uniprot-leghemoglobin.fasta\",\n",
    "               \"uniprot-myoglobin.fasta\")\n",
    "\n",
    "number_files = len(heme_files)\n",
    "\n",
    "print(number_files)\n",
    "print(file_path)"
   ]
  },
  {
   "cell_type": "code",
   "execution_count": null,
   "metadata": {
    "collapsed": true
   },
   "outputs": [],
   "source": [
    "f = open (\"myfile.fa\")\n",
    "seqs = {}\n",
    "\n",
    "for for i in number_files:\n",
    "for line in f:\n",
    "    # Discard the newline (\\n) at the end, if any\n",
    "    line = line.rstrip() \n",
    "    # distinguish header from sequence\n",
    "    if line[0] == '>': # or line.startswith('>')\n",
    "        words=line.split()\n",
    "        name = words[0][1:]\n",
    "        seqs[name] = ‘’\n",
    "    else:  # sequence, not header\n",
    "        seqs[name] = seqs[name] + line\n",
    "close(f)"
   ]
  },
  {
   "cell_type": "code",
   "execution_count": 10,
   "metadata": {
    "collapsed": false
   },
   "outputs": [
    {
     "ename": "IndentationError",
     "evalue": "expected an indented block (<ipython-input-10-48bc5e1b8124>, line 5)",
     "output_type": "error",
     "traceback": [
      "\u001b[0;36m  File \u001b[0;32m\"<ipython-input-10-48bc5e1b8124>\"\u001b[0;36m, line \u001b[0;32m5\u001b[0m\n\u001b[0;31m    filepath = (dir_path + heme_files[i])\u001b[0m\n\u001b[0m           ^\u001b[0m\n\u001b[0;31mIndentationError\u001b[0m\u001b[0;31m:\u001b[0m expected an indented block\n"
     ]
    }
   ],
   "source": [
    "\n",
    "\n",
    "def read_myaa(file_path, heme_files):\n",
    "    for i in number_files:\n",
    "        filepath = (dir_path + heme_files[i])\n",
    "        f = open(filepath)\n",
    "        count = 0\n",
    "    with open(\"dna2.fasta\") as f:\n",
    "        for l in f:\n",
    "            if l.startswith('>'):\n",
    "                name = l[1:].rstrip('\\n')\n",
    "                count = count + 1\n",
    "                sequences =[]\n",
    "            else:\n",
    "                sequences += l[:-1]\n",
    "                output_file = open(\"out_\" + str(count) + \"_.txt\", \"w\")\n",
    "                output_file.write(str(len(sequences)))\n",
    "    print count\n",
    "    f.close"
   ]
  },
  {
   "cell_type": "code",
   "execution_count": null,
   "metadata": {
    "collapsed": false
   },
   "outputs": [],
   "source": [
    "# Load Fasta files for six classes of heme related proteins and clean\n",
    "\n",
    "myfile = \"uniprot-erythrocruorin.fasta\"\n",
    "\n",
    "try:\n",
    "    f = open (myfile)\n",
    "except IOError:\n",
    "    print(\"File does not exist!\")\n",
    "\n",
    "seqs = {} # Use dictionary for proteins\n",
    "for line in f:\n",
    "    # let's discard the newline character (\\n) at the end, if any\n",
    "    line = line.rstrip() \n",
    "    # distinguish header from sequence\n",
    "    if line[0] == '>': # or line.startswith('>')\n",
    "        words = line.split()\n",
    "        name = words[0][1:]\n",
    "        seqs[name] = ''\n",
    "    else:  # sequence, not header\n",
    "        seqs[name] = seqs[name] + line\n",
    "close(f)\n",
    "\n"
   ]
  },
  {
   "cell_type": "code",
   "execution_count": null,
   "metadata": {
    "collapsed": true
   },
   "outputs": [],
   "source": [
    "len(seqs)\n",
    "\n",
    "# Print a dictionary\n",
    "for x in seqs:\n",
    "    print (x)\n",
    "    for y in seqs[x]:\n",
    "        print (y,':',seqs[x][y])"
   ]
  },
  {
   "cell_type": "code",
   "execution_count": null,
   "metadata": {
    "collapsed": false
   },
   "outputs": [],
   "source": [
    "\n",
    "# 7/11/16\n",
    "# Script to remove duplicate FASTA reads based on Identifier:\n",
    "# Given a FASTA file with some duplicate reads that share the same identifier,\n",
    "# produce a valid FASTA with the identifier removed\n",
    "\n",
    "def f7(seq):\n",
    "    seen = set()\n",
    "    seen_add = seen.add\n",
    "    return [x for x in seq if not (x in seen or seen_add(x))]\n",
    "    #Input is a list of tags, output is the unique items from the list, with the order of the list maintained\n",
    "    #This function can be replaced by use of just the set() method if the order of the tags/FASTA does not need to be maintained\n",
    "\n",
    "\n",
    "path_to_file = input(\"Enter path to FASTA as a string (use\" \"):\")\n",
    "path_to_file = path_to_file.replace('\"','')\n",
    "# e.g. /Users/User/Desktop/File.fas\n",
    "\n",
    "File = open(path_to_file, 'r')\n",
    "Text = File.read()\n",
    "\n",
    "#Breaking FASTA into individual reads:\n",
    "Lines = Text.split('>')\n",
    "Lines = Lines[1:] #Removes the first empty item from the list\n",
    "Tag_list = list()\n",
    "\n",
    "for line in Lines:\n",
    "    tags = line.split('\\n')\n",
    "    Tag_list.append(tags[0])\n",
    "\n",
    "Sing_tags = f7(Tag_list)# Creates a list of all the unique tags\n",
    "\n",
    "To_reconst = list()\n",
    "for tag in Sing_tags:\n",
    "    for line in Lines:\n",
    "        if line.startswith(tag):\n",
    "            To_reconst.append('>'+line)\n",
    "            break\n",
    "        else:\n",
    "            pass\n",
    "\n",
    "New_Fasta = ''.join(To_reconst)\n",
    "File_2 = open('New_FASTA.fas','w')\n",
    "File_2.write(str(New_Fasta))\n",
    "File_2.close()\n",
    "\n",
    "print (\"Length of FASTA: \",len(Lines))\n",
    "print (\"Number of Unique Tags: \",len(Sing_tags))\n",
    "print (\"Length of New FASTA\",len(To_reconst))\n"
   ]
  },
  {
   "cell_type": "code",
   "execution_count": null,
   "metadata": {
    "collapsed": true
   },
   "outputs": [],
   "source": []
  },
  {
   "cell_type": "code",
   "execution_count": null,
   "metadata": {
    "collapsed": true
   },
   "outputs": [],
   "source": []
  },
  {
   "cell_type": "code",
   "execution_count": 9,
   "metadata": {
    "collapsed": false
   },
   "outputs": [
    {
     "name": "stderr",
     "output_type": "stream",
     "text": [
      "usage: ipykernel_launcher.py [-h] [--window WINDOW] [--max MAX] [--min MIN]\n",
      "                             [--threshold THRESHOLD] [--file FILE] [--graph]\n",
      "                             [--log]\n",
      "ipykernel_launcher.py: error: unrecognized arguments: -f /run/user/1000/jupyter/kernel-9cb305e5-f669-4108-b573-2933879dff2d.json\n"
     ]
    },
    {
     "ename": "SystemExit",
     "evalue": "2",
     "output_type": "error",
     "traceback": [
      "An exception has occurred, use %tb to see the full traceback.\n",
      "\u001b[0;31mSystemExit\u001b[0m\u001b[0;31m:\u001b[0m 2\n"
     ]
    },
    {
     "name": "stderr",
     "output_type": "stream",
     "text": [
      "/home/mcc/anaconda3/lib/python3.6/site-packages/IPython/core/interactiveshell.py:2855: UserWarning: To exit: use 'exit', 'quit', or Ctrl-D.\n",
      "  warn(\"To exit: use 'exit', 'quit', or Ctrl-D.\", stacklevel=1)\n"
     ]
    }
   ],
   "source": [
    "import matplotlib.pyplot as plt\n",
    "import math\n",
    "import argparse\n",
    "\n",
    "# This lookup is used to correlate amino-acids to their\n",
    "# corresponding Kyte-Doolittle hydropathy score.\n",
    "hydropathy_lookup = {\n",
    "    'A':  1.800,\n",
    "    'R': -4.500,\n",
    "    'N': -3.500,\n",
    "    'D': -3.500,\n",
    "    'C':  2.500,\n",
    "    'Q': -3.500,\n",
    "    'E': -3.500,\n",
    "    'G': -0.400,\n",
    "    'H': -3.200,\n",
    "    'I':  4.500,\n",
    "    'L':  3.800,\n",
    "    'K': -3.900,\n",
    "    'M':  1.900,\n",
    "    'F':  2.800,\n",
    "    'P': -1.600,\n",
    "    'S': -0.800,\n",
    "    'T': -0.700,\n",
    "    'W': -0.900,\n",
    "    'Y': -1.300,\n",
    "    'V':  4.200,\n",
    "}\n",
    "\n",
    "# Make sure to at least set --file flag if you aren't working directly out of a BLAST search \n",
    "# (hence the 'seqdump.txt' default). Defaults are set for measuring 24TMS Ca & Na.\n",
    "parser = argparse.ArgumentParser(description='Analyze proteins for a certain number of hydrophobic spanners')\n",
    "parser.add_argument('--window', default=21, type=int, help='defines the width of the sliding window used')\n",
    "parser.add_argument('--max', default=26, type=int, help='what is the maximum number of hydrophobic spanners that will be included in the passed group')\n",
    "parser.add_argument('--min', default=22, type=int, help='what is the minimum number of hydrophobic spanners that will be included in the passed group')\n",
    "parser.add_argument('--threshold', default=1.0, type=float, help='what hydropathy score is required to consider a spanner as hydrophobic')\n",
    "parser.add_argument('--file', default='seqdump.txt', type=str, help='path to the data file')\n",
    "parser.add_argument('--graph', action='store_true', help='should the spanners be graphed?')\n",
    "parser.add_argument('--log', action='store_true', help='should we log things')\n",
    "args = parser.parse_args().__dict__\n",
    "\n",
    "# Variables in program set to argument values.\n",
    "SLIDING_WINDOW_LENGTH = args['window']\n",
    "MAX_HYDROPHOBIC_SPANNER_GROUPS = args['max']\n",
    "MIN_HYDROPHOBIC_SPANNER_GROUPS = args['min']\n",
    "HYDROPATHY_THRESHOLD = args['threshold']\n",
    "GRAPH = args['graph']\n",
    "LOG = args['log']\n",
    "FILE = args['file']\n",
    "\n",
    "# Map each amino-acid in the protein sequence to the average hydropathy\n",
    "# of its SLIDING_WINDOW_LENGTH length of amino-acids.\n",
    "def generate_spanners(protein_sequence):\n",
    "    # Store the average hydropathy of each amino acids next SLIDING_WINDOW_LENGTH's\n",
    "    # amount of amino acids.\n",
    "    spanners = []\n",
    "\n",
    "    # Loop over the protein_sequence to analyze each sliding window of amino\n",
    "    # acids to determine average hydropathy.\n",
    "    for idx, _ in enumerate(protein_sequence[0:-(SLIDING_WINDOW_LENGTH-1)]):\n",
    "\n",
    "        # Retrieve spanner.\n",
    "        spanner = protein_sequence[idx:(idx+SLIDING_WINDOW_LENGTH)]\n",
    "\n",
    "        total_hydropathy = 0\n",
    "\n",
    "        # Loop over the spanner to aggregate the hydropathy scores.\n",
    "        for amino_acid in spanner:\n",
    "            total_hydropathy += hydropathy_lookup[amino_acid]\n",
    "\n",
    "        spanners.append(total_hydropathy/SLIDING_WINDOW_LENGTH)\n",
    "\n",
    "    return spanners\n",
    "\n",
    "\n",
    "if __name__ == \"__main__\":\n",
    "    # Read the 'seqdump.txt' data file or whichever argument is flagged by '--file'.\n",
    "    data_file = open(FILE, \"r\") \n",
    "    data_string = data_file.read() \n",
    "\n",
    "    # Uncomment to generate figure.\n",
    "    plt.figure()\n",
    "\n",
    "    protein_data = data_string.split(\"\\n>\")\n",
    "\n",
    "    if LOG:\n",
    "        print ('\\n')\n",
    "        print ('INPUT PROTEINS: \\n\\t' + str(len(protein_data)))\n",
    "        print ('\\n')\n",
    "\n",
    "    passed_proteins = []\n",
    "\n",
    "    # The data_string needs to be split on '\\n>' to account for carrot\n",
    "    # symbols being located in the protein descriptions.\n",
    "    for datum_string in protein_data:\n",
    "\n",
    "        # This handles the case of multiple lingering '>' in the description.\n",
    "        if datum_string is \"\":\n",
    "            continue\n",
    "\n",
    "        # Separate the protein description and sequence using a new line delimiter.\n",
    "        datum_lines = datum_string.split(\"\\n\", 1)\n",
    "        protein_description = datum_lines[0]\n",
    "\n",
    "        # The protein sequence needs all Xs removed as they can be intrepeted as\n",
    "        # 'any' amino acid.\n",
    "        protein_sequence = \"\".join(datum_lines[1].splitlines()).replace(\"X\", \"\")\n",
    "\n",
    "        # Given len(protein_sequence) number of SLIDING_WINDOW_LENGTHs calculate the average hydropathy value\n",
    "        # for each sliding window.\n",
    "        spanners = generate_spanners(protein_sequence)\n",
    "\n",
    "        # Apply a value of 0 to all spanners that are less than HYDROPATHY_THRESHOLD. This will\n",
    "        # allow us to later examine chains.\n",
    "        hydrophobic_spanners = []\n",
    "        for spanner in spanners:\n",
    "            hydrophobic_spanners.append(spanner if spanner >= HYDROPATHY_THRESHOLD else 0)\n",
    "\n",
    "        # This is the crux of the program. The algorithm uses idx+3 because when running initial data through,\n",
    "        # the highest accuracy while still being inclusive of all 'actual' TMS was generated by this measure.\n",
    "        hydrophobic_spanner_groups_count = 0\n",
    "        for idx, spanner in enumerate(hydrophobic_spanners[:-(SLIDING_WINDOW_LENGTH+1)]):\n",
    "            if spanner is not 0 and hydrophobic_spanners[idx+1] is not 0 and hydrophobic_spanners[idx+2] is not 0 and hydrophobic_spanners[idx+3] is 0:\n",
    "                hydrophobic_spanner_groups_count += 1\n",
    "\n",
    "        if hydrophobic_spanner_groups_count >= MIN_HYDROPHOBIC_SPANNER_GROUPS and hydrophobic_spanner_groups_count <= MAX_HYDROPHOBIC_SPANNER_GROUPS:\n",
    "            passed_proteins.append({\n",
    "                'description': protein_description,\n",
    "                'sequence': protein_sequence,\n",
    "                'hydrophobic_spanner_groups_count': hydrophobic_spanner_groups_count\n",
    "            })\n",
    "\n",
    "        if GRAPH:\n",
    "            plt.plot([x for x in range(0, len(spanners)) if hydrophobic_spanners[x] >= HYDROPATHY_THRESHOLD], [x for x in hydrophobic_spanners if x >= HYDROPATHY_THRESHOLD])\n",
    "\n",
    "    if GRAPH:\n",
    "        plt.savefig(\"hydropathy-plot.png\")\n",
    "\n",
    "    if LOG:\n",
    "        for protein in passed_proteins:\n",
    "            print ('\\n')\n",
    "            print ('DESCRIPTION: \\n\\t' + protein['description'])\n",
    "            print ('SEQUENCE LENGTH: \\n\\t' + str(len(protein['sequence'])))\n",
    "            print ('SEQUENCE: \\n\\t' + protein['sequence'])\n",
    "\n",
    "        print ('\\n')\n",
    "        print ('PROTEINS PASSING HYDROPHOBIC SPANNER GROUPS RANGE TEST: \\n\\t' + str(len(passed_proteins)))\n",
    "        print ('\\n')\n",
    "\n",
    "    file = open(\"output.txt\", \"w\") \n",
    "    file.write('\\n'.join(['>'+protein['description']+'\\n' + protein['sequence'] for protein in passed_proteins])) \n",
    "file.close() "
   ]
  },
  {
   "cell_type": "code",
   "execution_count": null,
   "metadata": {
    "collapsed": true
   },
   "outputs": [],
   "source": []
  }
 ],
 "metadata": {
  "kernelspec": {
   "display_name": "Python 3",
   "language": "python",
   "name": "python3"
  },
  "language_info": {
   "codemirror_mode": {
    "name": "ipython",
    "version": 3
   },
   "file_extension": ".py",
   "mimetype": "text/x-python",
   "name": "python",
   "nbconvert_exporter": "python",
   "pygments_lexer": "ipython3",
   "version": "3.6.0"
  }
 },
 "nbformat": 4,
 "nbformat_minor": 2
}
